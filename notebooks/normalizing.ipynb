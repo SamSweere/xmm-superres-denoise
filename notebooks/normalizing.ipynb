{
 "cells": [
  {
   "cell_type": "code",
   "execution_count": null,
   "metadata": {
    "collapsed": true
   },
   "outputs": [],
   "source": [
    "dataset_config = dict(\n",
    "    dataset_name=\"tng300_2048\",#\"tng50_300_z99_2048\",#\"tng300_2048\",\n",
    "    datasets_dir=\"/home/sam/Documents/ESA/data\",  # '/home/sam/Documents/ESA/data/sim/tng300_2048/fits', #\n",
    "    cache_dir=\"/home/ssweere/data/cache\",\n",
    "    lr_res=32,\n",
    "    hr_res=128,\n",
    "    dataset_lr_res=64,\n",
    "    # This implies a crop of 0.5, note the difference in dataset size has to be the same as the lr and hr difference\n",
    "    dataset_hr_res=256,  # This implies a crop of 0.5\n",
    "    batch_size=32,\n",
    "    normalize='sqrt',  # Other options None and 'linear'\n",
    "    # normalize = None\n",
    "    debug=debug,\n",
    ")"
   ]
  },
  {
   "cell_type": "code",
   "execution_count": null,
   "outputs": [],
   "source": [],
   "metadata": {
    "collapsed": false,
    "pycharm": {
     "name": "#%%\n"
    }
   }
  }
 ],
 "metadata": {
  "kernelspec": {
   "display_name": "Python 3",
   "language": "python",
   "name": "python3"
  },
  "language_info": {
   "codemirror_mode": {
    "name": "ipython",
    "version": 2
   },
   "file_extension": ".py",
   "mimetype": "text/x-python",
   "name": "python",
   "nbconvert_exporter": "python",
   "pygments_lexer": "ipython2",
   "version": "2.7.6"
  }
 },
 "nbformat": 4,
 "nbformat_minor": 0
}