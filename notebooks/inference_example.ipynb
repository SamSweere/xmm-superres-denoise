{
 "cells": [
  {
   "cell_type": "markdown",
   "id": "c756f71d-48c3-4e8a-8223-a17157286b9f",
   "metadata": {},
   "source": [
    "# XMM_SuperRes and XMM_DeNoise inference example\n",
    "\n",
    "Author: Sam Sweere\n",
    "\n",
    "# Setup\n",
    "\n",
    "See the `README.md` file to setup the virtual environment.\n",
    "\n",
    "Specific for the notebook, add the virtualenv:\n",
    "\n",
    "`python3 -m ipykernel install --user --name=resleeve_env`\n",
    "\n",
    "Reload the jupyternotebook and enable the virtual environemt."
   ]
  },
  {
   "cell_type": "code",
   "execution_count": null,
   "id": "426adcc0-22f2-419e-bddc-ce7e349209b0",
   "metadata": {},
   "outputs": [],
   "source": []
  },
  {
   "cell_type": "code",
   "execution_count": null,
   "id": "88e51a92-7b2a-4835-a95c-63261dece971",
   "metadata": {},
   "outputs": [],
   "source": []
  },
  {
   "cell_type": "markdown",
   "id": "7a59a91e-70c6-45d1-abfe-ec35c35dd06e",
   "metadata": {},
   "source": [
    "In this example we are using a few example files from the simulated dataset to apply the super-resolution model on. \n",
    "\n",
    "Note that if we want to do inference on real images we should use the  `XMM-SuperRes_real_data_config.yaml`."
   ]
  },
  {
   "cell_type": "code",
   "execution_count": 3,
   "id": "2428d9cc-fe9a-4df0-a7cb-639f1c3656f6",
   "metadata": {},
   "outputs": [],
   "source": [
    "model_path = \"../models/XMM-SuperRes.onnx\"\n",
    "model_data_config_path = \"../models/XMM-SuperRes_sim_data_config.yaml\"\n",
    "data_path = \"../example_data/sim/20ks\"\n",
    "output_path = \"../example_data/output/xmm_superres_preds\""
   ]
  },
  {
   "cell_type": "code",
   "execution_count": null,
   "id": "08080d5c-f175-46e1-a1c0-0b3d95049043",
   "metadata": {},
   "outputs": [],
   "source": []
  },
  {
   "cell_type": "code",
   "execution_count": null,
   "id": "a6b92ec4-06fe-4c13-acd3-de64917f368b",
   "metadata": {},
   "outputs": [],
   "source": []
  },
  {
   "cell_type": "code",
   "execution_count": null,
   "id": "ca9e9b06-318a-4b98-bb66-3910460e2c1e",
   "metadata": {},
   "outputs": [],
   "source": []
  },
  {
   "cell_type": "code",
   "execution_count": null,
   "id": "41c91a65-7476-4eb8-bd90-87406ed7c9c0",
   "metadata": {},
   "outputs": [],
   "source": []
  },
  {
   "cell_type": "code",
   "execution_count": null,
   "id": "bc85e3a6-a230-4f9b-afef-8e8e6ca3720f",
   "metadata": {},
   "outputs": [],
   "source": []
  },
  {
   "cell_type": "code",
   "execution_count": null,
   "id": "611cd4df-6916-4082-a3fb-23af9b584289",
   "metadata": {},
   "outputs": [],
   "source": []
  }
 ],
 "metadata": {
  "kernelspec": {
   "display_name": "xmm_superres_venv",
   "language": "python",
   "name": "xmm_superres_venv"
  },
  "language_info": {
   "codemirror_mode": {
    "name": "ipython",
    "version": 3
   },
   "file_extension": ".py",
   "mimetype": "text/x-python",
   "name": "python",
   "nbconvert_exporter": "python",
   "pygments_lexer": "ipython3",
   "version": "3.8.10"
  }
 },
 "nbformat": 4,
 "nbformat_minor": 5
}
