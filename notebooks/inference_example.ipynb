{
 "cells": [
  {
   "cell_type": "markdown",
   "id": "c756f71d-48c3-4e8a-8223-a17157286b9f",
   "metadata": {},
   "source": [
    "# XMM_SuperRes and XMM_DeNoise inference example\n",
    "\n",
    "Author: Sam Sweere\n",
    "\n",
    "# Setup\n",
    "\n",
    "See the `README.md` file to setup the virtual environment.\n",
    "\n",
    "### Specific for the notebook\n",
    "\n",
    "Install the `src` as a package:\n",
    "\n",
    "`pip install -e .`\n",
    "\n",
    "Add the virtualenv:\n",
    "\n",
    "`python3 -m ipykernel install --user --name=resleeve_env`\n",
    "\n",
    "Reload the jupyternotebook and enable the virtual environemt."
   ]
  },
  {
   "cell_type": "markdown",
   "id": "7a59a91e-70c6-45d1-abfe-ec35c35dd06e",
   "metadata": {},
   "source": [
    "In this example we are using a few example files from the simulated dataset to apply the super-resolution model on. \n",
    "\n",
    "All the dataset details and model configuration details are stored in the `XMM-SuperRes_sim_data_config.yaml` file. If we would like to use our own images we can make a new copy of the configuration file and change the details in there. "
   ]
  },
  {
   "cell_type": "code",
   "execution_count": 1,
   "id": "2428d9cc-fe9a-4df0-a7cb-639f1c3656f6",
   "metadata": {},
   "outputs": [],
   "source": [
    "model_path = \"../models/XMM-SuperRes.onnx\"\n",
    "model_data_config_path = \"../models/XMM-SuperRes_sim_data_config.yaml\"\n",
    "output_path = \"../data/output\""
   ]
  },
  {
   "cell_type": "code",
   "execution_count": 2,
   "id": "08080d5c-f175-46e1-a1c0-0b3d95049043",
   "metadata": {},
   "outputs": [
    {
     "name": "stderr",
     "output_type": "stream",
     "text": [
      "/home/sam/Documents/ESA/github_public/xmm-superres-denoise/xmm_superres_venv/lib/python3.8/site-packages/tqdm/auto.py:22: TqdmWarning: IProgress not found. Please update jupyter and ipywidgets. See https://ipywidgets.readthedocs.io/en/stable/user_install.html\n",
      "  from .autonotebook import tqdm as notebook_tqdm\n"
     ]
    }
   ],
   "source": [
    "from src import inference"
   ]
  },
  {
   "cell_type": "code",
   "execution_count": 3,
   "id": "a6b92ec4-06fe-4c13-acd3-de64917f368b",
   "metadata": {},
   "outputs": [
    {
     "name": "stdout",
     "output_type": "stream",
     "text": [
      "Detected 6 fits files in ../data/example_data/sim/20ks/img/1x\n",
      "Detected 6 fits files in ../data/example_data/sim/100ks/img/2x\n",
      "Found 6 image pairs (lr and hr simulation matches)\n",
      "Detected 6 fits files in ../data/example_data/sim/20ks/agn/1x\n",
      "Detected 6 fits files in ../data/example_data/sim/100ks/agn/2x\n",
      "Found 6 agn image pairs (lr and hr simulation matches)\n",
      "Detected 6 fits files in ../data/example_data/sim/20ks/background/1x\n",
      "Checking lr img files:\n",
      "Checking exp 20\n"
     ]
    },
    {
     "name": "stderr",
     "output_type": "stream",
     "text": [
      "100%|███████████████████████████████████████████████████████████████████████████████████████████████████████████████████████████████████████| 6/6 [00:00<00:00, 135.63it/s]\n"
     ]
    },
    {
     "name": "stdout",
     "output_type": "stream",
     "text": [
      "Checking hr img files:\n"
     ]
    },
    {
     "name": "stderr",
     "output_type": "stream",
     "text": [
      "100%|████████████████████████████████████████████████████████████████████████████████████████████████████████████████████████████████████████| 6/6 [00:00<00:00, 42.49it/s]\n"
     ]
    },
    {
     "name": "stdout",
     "output_type": "stream",
     "text": [
      "Checking lr agn files:\n",
      "Checking exp 20\n"
     ]
    },
    {
     "name": "stderr",
     "output_type": "stream",
     "text": [
      "100%|███████████████████████████████████████████████████████████████████████████████████████████████████████████████████████████████████████| 6/6 [00:00<00:00, 132.16it/s]\n"
     ]
    },
    {
     "name": "stdout",
     "output_type": "stream",
     "text": [
      "\n",
      "Checking hr agn files:\n"
     ]
    },
    {
     "name": "stderr",
     "output_type": "stream",
     "text": [
      "100%|████████████████████████████████████████████████████████████████████████████████████████████████████████████████████████████████████████| 6/6 [00:00<00:00, 46.43it/s]\n"
     ]
    },
    {
     "name": "stdout",
     "output_type": "stream",
     "text": [
      "\n",
      "Checking lr background files:\n",
      "Checking exp 20\n"
     ]
    },
    {
     "name": "stderr",
     "output_type": "stream",
     "text": [
      "100%|███████████████████████████████████████████████████████████████████████████████████████████████████████████████████████████████████████| 6/6 [00:00<00:00, 123.87it/s]\n"
     ]
    },
    {
     "name": "stdout",
     "output_type": "stream",
     "text": [
      "All files are within specifications!\n",
      "\n",
      "Generating images using the XMM-SuperRes model:\n"
     ]
    },
    {
     "name": "stderr",
     "output_type": "stream",
     "text": [
      "100%|████████████████████████████████████████████████████████████████████████████████████████████████████████████████████████████████████████| 6/6 [00:44<00:00,  7.42s/it]\n"
     ]
    }
   ],
   "source": [
    "inference.do_inference(\n",
    "    model_path=model_path,\n",
    "    model_data_config_path=model_data_config_path,\n",
    "    output_path=output_path,\n",
    "    check_files=True,\n",
    ")"
   ]
  }
 ],
 "metadata": {
  "kernelspec": {
   "display_name": "xmm_superres_venv",
   "language": "python",
   "name": "xmm_superres_venv"
  },
  "language_info": {
   "codemirror_mode": {
    "name": "ipython",
    "version": 3
   },
   "file_extension": ".py",
   "mimetype": "text/x-python",
   "name": "python",
   "nbconvert_exporter": "python",
   "pygments_lexer": "ipython3",
   "version": "3.8.10"
  }
 },
 "nbformat": 4,
 "nbformat_minor": 5
}
